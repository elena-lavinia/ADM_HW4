{
 "cells": [
  {
   "cell_type": "code",
   "execution_count": null,
   "metadata": {},
   "outputs": [],
   "source": [
    "import numpy as np\n",
    "from collections import defaultdict\n",
    "from numba import autojit, prange\n",
    "\n",
    "\n",
    "def hashfunction(data):\n",
    "    s=''.join(sorted(data.strip()))\n",
    "    h=[ord(i) for i in s]\n",
    "    hashnumber=sum([256**(h.index(value))*value for value in h])%88000000\n",
    "    hashdict[hashnumber].append(s)\n",
    "    return(hashdict)\n",
    "hashdict = defaultdict(list)\n",
    "with open(\"C:/Users/Atefeh/Desktop/passwords2.txt\") as f:\n",
    "        #lines=f.readlines()\n",
    "        for line in f:\n",
    "            line1=f.readline()\n",
    "            if len(line1.strip())==20:\n",
    "                data=line.strip()\n",
    "                hashfunction(data)"
   ]
  },
  {
   "cell_type": "code",
   "execution_count": null,
   "metadata": {},
   "outputs": [],
   "source": [
    "hashdict"
   ]
  },
  {
   "cell_type": "code",
   "execution_count": null,
   "metadata": {},
   "outputs": [],
   "source": []
  },
  {
   "cell_type": "code",
   "execution_count": null,
   "metadata": {},
   "outputs": [],
   "source": [
    "with open(\"C:/Users/Atefeh/Desktop/passwords2.txt\") as f:\n",
    "    lines=f.readlines()"
   ]
  },
  {
   "cell_type": "code",
   "execution_count": null,
   "metadata": {},
   "outputs": [],
   "source": [
    "len(lines)"
   ]
  },
  {
   "cell_type": "code",
   "execution_count": null,
   "metadata": {},
   "outputs": [],
   "source": [
    "s=sorted('b%xJ79\"A*C5@ehMfS3lu')\n",
    "h=[ord(i) for i in ''.join(s)]\n",
    "hashnumber=sum([128**(h.index(value))*value for value in h])%66000000"
   ]
  },
  {
   "cell_type": "code",
   "execution_count": null,
   "metadata": {},
   "outputs": [],
   "source": [
    "duplicates=0\n",
    "collision=0\n",
    "for i in hashdict:\n",
    "    l=hashdict[i]\n",
    "    v=l[0]\n",
    "    for i in l[1:]:\n",
    "        if i==v:\n",
    "            duplicates+=1\n",
    "        else:\n",
    "            collision+=1"
   ]
  },
  {
   "cell_type": "code",
   "execution_count": null,
   "metadata": {},
   "outputs": [],
   "source": [
    "duplicates"
   ]
  }
 ],
 "metadata": {
  "kernelspec": {
   "display_name": "Python 3",
   "language": "python",
   "name": "python3"
  },
  "language_info": {
   "codemirror_mode": {
    "name": "ipython",
    "version": 3
   },
   "file_extension": ".py",
   "mimetype": "text/x-python",
   "name": "python",
   "nbconvert_exporter": "python",
   "pygments_lexer": "ipython3",
   "version": "3.7.0"
  }
 },
 "nbformat": 4,
 "nbformat_minor": 2
}
