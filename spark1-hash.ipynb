{
 "cells": [
  {
   "cell_type": "code",
   "execution_count": 14,
   "metadata": {},
   "outputs": [],
   "source": [
    "from pyspark import SparkConf, SparkContext\n",
    "import pandas as pd"
   ]
  },
  {
   "cell_type": "code",
   "execution_count": 15,
   "metadata": {},
   "outputs": [],
   "source": [
    "conf = SparkConf().setAppName(\"App\")\n",
    "conf = (conf.setMaster('local[*]')\n",
    "        .set('spark.executor.memory', '45G')\n",
    "        .set('spark.driver.memory', '45G')\n",
    "        .set('spark.driver.maxResultSize', '45G'))"
   ]
  },
  {
   "cell_type": "code",
   "execution_count": 16,
   "metadata": {},
   "outputs": [],
   "source": [
    "sc = SparkContext(conf=conf)\n",
    "sparktext = sc.textFile(\"passwords2.txt\")"
   ]
  },
  {
   "cell_type": "code",
   "execution_count": 13,
   "metadata": {},
   "outputs": [],
   "source": [
    "sc.stop()"
   ]
  },
  {
   "cell_type": "code",
   "execution_count": 8,
   "metadata": {},
   "outputs": [],
   "source": [
    "def hashfunction(data):\n",
    "    h=[ord(i) for i in ''.join(sorted(data.strip()))]\n",
    "    hashnumber=sum([(256**(h.index(value)))*value for value in h])%77000000\n",
    "    return((hashnumber,data))"
   ]
  },
  {
   "cell_type": "code",
   "execution_count": 6,
   "metadata": {},
   "outputs": [],
   "source": [
    "sparktext1=sparktext.take(40000000)\n",
    "sparktext1=sc.parallelize(sparktext1)\n",
    "data1=sparktext1.map(hashfunction).groupByKey().map(lambda x : (x[0], list(x[1]))).collect()\n",
    "data1=dict(data1)"
   ]
  },
  {
   "cell_type": "code",
   "execution_count": 9,
   "metadata": {},
   "outputs": [],
   "source": [
    "sparktext2=sparktext.take(80000000)[40000000:80000000]\n",
    "sparktext2=sc.parallelize(sparktext2)\n",
    "data2=sparktext2.map(hashfunction).groupByKey().map(lambda x : (x[0], list(x[1]))).collect()\n",
    "data2=dict(data2)"
   ]
  },
  {
   "cell_type": "code",
   "execution_count": 17,
   "metadata": {},
   "outputs": [],
   "source": [
    "sparktext3=sparktext.take(110000000)[80000000:110000000]\n",
    "sparktext3=sc.parallelize(sparktext3)\n",
    "data3=sparktext3.map(hashfunction).groupByKey().map(lambda x : (x[0], list(x[1]))).collect()\n",
    "data3=dict(data3)"
   ]
  },
  {
   "cell_type": "markdown",
   "metadata": {},
   "source": [
    "second part "
   ]
  },
  {
   "cell_type": "code",
   "execution_count": 17,
   "metadata": {},
   "outputs": [],
   "source": [
    "def hashfunction_2(data):\n",
    "    h=[ord(i) for i in ''.join(data.strip())]\n",
    "    hashnumber=sum([(256**(h.index(value)))*value for value in h])%77000000\n",
    "    return((hashnumber,data))"
   ]
  },
  {
   "cell_type": "code",
   "execution_count": 26,
   "metadata": {},
   "outputs": [],
   "source": [
    "sparktext1=sparktext.take(40000000)\n",
    "sparktext1=sc.parallelize(sparktext1)\n",
    "data1=sparktext1.map(hashfunction_2).groupByKey().map(lambda x : (x[0], list(x[1]))).collect()\n",
    "data1=dict(data1)"
   ]
  },
  {
   "cell_type": "code",
   "execution_count": 6,
   "metadata": {},
   "outputs": [],
   "source": [
    "sparktext2=sparktext.take(80000000)[40000000:80000000]\n",
    "sparktext2=sc.parallelize(sparktext2)\n",
    "data2=sparktext2.map(hashfunction_2).groupByKey().map(lambda x : (x[0], list(x[1]))).collect()\n",
    "data2=dict(data2)"
   ]
  },
  {
   "cell_type": "code",
   "execution_count": 18,
   "metadata": {},
   "outputs": [],
   "source": [
    "sparktext3=sparktext.take(110000000)[80000000:110000000]\n",
    "sparktext3=sc.parallelize(sparktext3)\n",
    "data3=sparktext3.map(hashfunction_2).groupByKey().map(lambda x : (x[0], list(x[1]))).collect()\n",
    "data3=dict(data3)"
   ]
  },
  {
   "cell_type": "code",
   "execution_count": 19,
   "metadata": {},
   "outputs": [],
   "source": [
    "import json\n",
    "with open('2data3.json', 'w') as outfile:\n",
    "    json.dump(data3, outfile)"
   ]
  },
  {
   "cell_type": "code",
   "execution_count": 20,
   "metadata": {},
   "outputs": [
    {
     "data": {
      "text/plain": [
       "23893202"
      ]
     },
     "execution_count": 20,
     "metadata": {},
     "output_type": "execute_result"
    }
   ],
   "source": [
    "len(data3)"
   ]
  },
  {
   "cell_type": "code",
   "execution_count": 11,
   "metadata": {},
   "outputs": [],
   "source": [
    "del data2"
   ]
  },
  {
   "cell_type": "code",
   "execution_count": 19,
   "metadata": {},
   "outputs": [],
   "source": [
    "import json\n",
    "with open('data3.json', 'w') as outfile:\n",
    "    json.dump(data3, outfile)"
   ]
  },
  {
   "cell_type": "code",
   "execution_count": 24,
   "metadata": {},
   "outputs": [],
   "source": [
    "del data3"
   ]
  },
  {
   "cell_type": "code",
   "execution_count": null,
   "metadata": {},
   "outputs": [],
   "source": [
    "sparktext3=sparktext.take(110000000)[80000000:110000000]\n",
    "sparktext2=sparktext.take(80000000)[4000000:80000000]\n",
    "sparktext2=sc.parallelize(sparktext2)\n",
    "sparktext3=sc.parallelize(sparktext3)"
   ]
  },
  {
   "cell_type": "code",
   "execution_count": null,
   "metadata": {},
   "outputs": [],
   "source": []
  },
  {
   "cell_type": "code",
   "execution_count": null,
   "metadata": {},
   "outputs": [],
   "source": [
    "data2=sparktext.map(hashfunction).groupByKey().map(lambda x : (x[0], list(x[1]))).collect()\n",
    "data3=sparktext.map(hashfunction).groupByKey().map(lambda x : (x[0], list(x[1]))).collect()"
   ]
  },
  {
   "cell_type": "code",
   "execution_count": null,
   "metadata": {},
   "outputs": [],
   "source": [
    "data2=dict(data2)\n",
    "data3=dict(data3)"
   ]
  },
  {
   "cell_type": "code",
   "execution_count": null,
   "metadata": {},
   "outputs": [],
   "source": []
  },
  {
   "cell_type": "code",
   "execution_count": null,
   "metadata": {},
   "outputs": [],
   "source": [
    "import json\n",
    "with open('data2.json', 'w') as outfile:\n",
    "    json.dump(data2, outfile)"
   ]
  },
  {
   "cell_type": "code",
   "execution_count": null,
   "metadata": {},
   "outputs": [],
   "source": [
    "import json\n",
    "with open('data3.json', 'w') as outfile:\n",
    "    json.dump(data3, outfile)"
   ]
  },
  {
   "cell_type": "code",
   "execution_count": 37,
   "metadata": {},
   "outputs": [],
   "source": [
    "d1={'a':[1,2],'b':2}\n",
    "d2={'a':[3],'d':4}\n",
    "\n"
   ]
  },
  {
   "cell_type": "code",
   "execution_count": 38,
   "metadata": {},
   "outputs": [
    {
     "data": {
      "text/plain": [
       "{'a': [3], 'b': 2, 'd': 4}"
      ]
     },
     "execution_count": 38,
     "metadata": {},
     "output_type": "execute_result"
    }
   ],
   "source": [
    "dict(d1,**d2)"
   ]
  },
  {
   "cell_type": "code",
   "execution_count": 33,
   "metadata": {},
   "outputs": [
    {
     "ename": "SyntaxError",
     "evalue": "invalid syntax (<ipython-input-33-d7b74db2aba6>, line 1)",
     "output_type": "error",
     "traceback": [
      "\u001b[0;36m  File \u001b[0;32m\"<ipython-input-33-d7b74db2aba6>\"\u001b[0;36m, line \u001b[0;32m1\u001b[0m\n\u001b[0;31m    print dict(d1, **d2)\u001b[0m\n\u001b[0m             ^\u001b[0m\n\u001b[0;31mSyntaxError\u001b[0m\u001b[0;31m:\u001b[0m invalid syntax\n"
     ]
    }
   ],
   "source": [
    "print dict(d1, **d2)"
   ]
  }
 ],
 "metadata": {
  "kernelspec": {
   "display_name": "Python 3",
   "language": "python",
   "name": "python3"
  },
  "language_info": {
   "codemirror_mode": {
    "name": "ipython",
    "version": 3
   },
   "file_extension": ".py",
   "mimetype": "text/x-python",
   "name": "python",
   "nbconvert_exporter": "python",
   "pygments_lexer": "ipython3",
   "version": "3.5.2"
  }
 },
 "nbformat": 4,
 "nbformat_minor": 2
}
