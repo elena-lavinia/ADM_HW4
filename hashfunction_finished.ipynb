{
 "cells": [
  {
   "cell_type": "code",
   "execution_count": 1,
   "metadata": {},
   "outputs": [],
   "source": [
    "import numpy as np\n",
    "from collections import defaultdict\n",
    "\n",
    "\n",
    "def hashfunction(data):\n",
    "    s=''.join(sorted(data.strip()))\n",
    "    h=[ord(i) for i in s]\n",
    "    hashnumber=sum([(256**h.index(value))*value for value in h])%88000000\n",
    "    hashdict[hashnumber].append(s)\n",
    "    return(hashdict)\n",
    "hashdict = defaultdict(list)\n",
    "with open(\"passwords2.txt\") as f:\n",
    "        #lines=f.readlines()\n",
    "        #for line in f:\n",
    "        for line in f:\n",
    "            line1=f.readline()\n",
    "            if len(line1.strip())==20:\n",
    "                data=line1.strip()\n",
    "                hashfunction(data)"
   ]
  },
  {
   "cell_type": "code",
   "execution_count": 2,
   "metadata": {},
   "outputs": [],
   "source": [
    "collision=0\n",
    "for i in hashdict:\n",
    "    l=hashdict[i]\n",
    "    v=l[0]\n",
    "    for j in l[1:]:\n",
    "        if j==v:\n",
    "            continue\n",
    "        else:\n",
    "            collision+=1"
   ]
  },
  {
   "cell_type": "code",
   "execution_count": 3,
   "metadata": {},
   "outputs": [
    {
     "data": {
      "text/plain": [
       "47532058"
      ]
     },
     "execution_count": 3,
     "metadata": {},
     "output_type": "execute_result"
    }
   ],
   "source": [
    "collision"
   ]
  },
  {
   "cell_type": "code",
   "execution_count": 6,
   "metadata": {},
   "outputs": [],
   "source": [
    "from collections import Counter"
   ]
  },
  {
   "cell_type": "code",
   "execution_count": 7,
   "metadata": {},
   "outputs": [],
   "source": [
    "\n",
    "duplicates=0\n",
    "for i in hashdict:\n",
    "    l=hashdict[i]\n",
    "    for j in Counter(l).values():\n",
    "        if j>1:\n",
    "            duplicates+=j"
   ]
  },
  {
   "cell_type": "code",
   "execution_count": 8,
   "metadata": {
    "scrolled": true
   },
   "outputs": [
    {
     "data": {
      "text/plain": [
       "10000000"
      ]
     },
     "execution_count": 8,
     "metadata": {},
     "output_type": "execute_result"
    }
   ],
   "source": [
    "duplicates"
   ]
  },
  {
   "cell_type": "code",
   "execution_count": null,
   "metadata": {},
   "outputs": [],
   "source": [
    "del hashdict\n",
    "del duplicates\n",
    "del collision"
   ]
  },
  {
   "cell_type": "code",
   "execution_count": 9,
   "metadata": {},
   "outputs": [],
   "source": [
    "from collections import defaultdict\n",
    "\n",
    "\n",
    "def hashfunction(data):\n",
    "    s=data.strip()\n",
    "    h=[ord(i) for i in s]\n",
    "    hashnumber=sum([256**(h.index(value))*value for value in h])%88000000\n",
    "    hashdict1[hashnumber].append(s)\n",
    "    return(hashdict1)\n",
    "hashdict1 = defaultdict(list)\n",
    "with open(\"passwords2.txt\") as f:\n",
    "        #lines=f.readlines()\n",
    "        #for line in f:\n",
    "        for line in f:\n",
    "            line1=f.readline()\n",
    "            if len(line1.strip())==20:\n",
    "                data=line1.strip()\n",
    "                hashfunction(data)"
   ]
  },
  {
   "cell_type": "code",
   "execution_count": 10,
   "metadata": {},
   "outputs": [],
   "source": [
    "collision1=0\n",
    "for i in hashdict1:\n",
    "    l=hashdict1[i]\n",
    "    v=l[0]\n",
    "    for j in l[1:]:\n",
    "        if j==v:\n",
    "            continue\n",
    "        else:\n",
    "            collision1+=1"
   ]
  },
  {
   "cell_type": "code",
   "execution_count": 11,
   "metadata": {},
   "outputs": [
    {
     "data": {
      "text/plain": [
       "28419480"
      ]
     },
     "execution_count": 11,
     "metadata": {},
     "output_type": "execute_result"
    }
   ],
   "source": [
    "collision1"
   ]
  },
  {
   "cell_type": "code",
   "execution_count": 12,
   "metadata": {},
   "outputs": [],
   "source": [
    "duplicates1=0\n",
    "for i in hashdict1:\n",
    "    l=hashdict1[i]\n",
    "    for j in Counter(l).values():\n",
    "        if j>1:\n",
    "            duplicates1+=j"
   ]
  },
  {
   "cell_type": "code",
   "execution_count": 13,
   "metadata": {},
   "outputs": [
    {
     "data": {
      "text/plain": [
       "5000000"
      ]
     },
     "execution_count": 13,
     "metadata": {},
     "output_type": "execute_result"
    }
   ],
   "source": [
    "duplicates1"
   ]
  }
 ],
 "metadata": {
  "kernelspec": {
   "display_name": "Python 3",
   "language": "python",
   "name": "python3"
  },
  "language_info": {
   "codemirror_mode": {
    "name": "ipython",
    "version": 3
   },
   "file_extension": ".py",
   "mimetype": "text/x-python",
   "name": "python",
   "nbconvert_exporter": "python",
   "pygments_lexer": "ipython3",
   "version": "3.5.2"
  }
 },
 "nbformat": 4,
 "nbformat_minor": 2
}
