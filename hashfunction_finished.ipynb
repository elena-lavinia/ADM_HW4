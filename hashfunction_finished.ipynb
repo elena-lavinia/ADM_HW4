{
 "cells": [
  {
   "cell_type": "markdown",
   "metadata": {},
   "source": [
    "# Hash-Table\n",
    "#### Hash Table is a data structure that maps the keys of given type to integers in a fixed interval [0,N-1]. In hashing, large keys are converted into small keys by using hash functions. The values are then stored in a data structure called hash table. The idea of hashing is to distribute entries (key/value pairs) uniformly across an array. Each element is assigned a key (converted key). By using that key you can access the element in O(1) time. Using the key, the algorithm (hash function) computes an index that suggests where an entry can be found or inserted. \n",
    "#### Hashing is implemented in two steps:\n",
    "1) An element is converted into an integer by using a hash function. This element can be used as an index to store the original element, which falls into the hash table.\n",
    "\n",
    "2) The element is stored in the hash table where it can be quickly retrieved using hashed key."
   ]
  },
  {
   "cell_type": "code",
   "execution_count": 1,
   "metadata": {
    "collapsed": true
   },
   "outputs": [],
   "source": [
    "from collections import Counter\n",
    "from collections import defaultdict\n",
    "import numpy as np"
   ]
  },
  {
   "cell_type": "markdown",
   "metadata": {},
   "source": [
    "#### In the following function,  first the passwords are converted to large numbers. In order to convert the password to large number first of all we sort the passwords then we get the ASCII code of the password and then the ASCII code of each character is multiplied with 256 power the position of the characters. Second, the numbers are mapped to the hash table, the hash table size is considered 88000000, therefore we find the  mode of the largenumber over 88000000."
   ]
  },
  {
   "cell_type": "code",
   "execution_count": 2,
   "metadata": {
    "collapsed": true
   },
   "outputs": [],
   "source": [
    "def hashfunction(data):\n",
    "    # the string is sorted \n",
    "    s=''.join(sorted(data.strip()))\n",
    "    # Assign the ASCII code of each character in the list\n",
    "    h=[ord(i) for i in s]\n",
    "    #hash number is the calculated which shows the index of the hash table\n",
    "    hashnumber=sum([(256**h.index(value))*value for value in h])%88000000\n",
    "    hashdict[hashnumber].append(s)\n",
    "    return(hashdict)\n",
    "hashdict = defaultdict(list)\n",
    "with open(\"passwords2.txt\") as f:\n",
    "        for line in f:\n",
    "            line1=f.readline()\n",
    "            if len(line1.strip())==20:\n",
    "                data=line1.strip()\n",
    "                hashfunction(data)"
   ]
  },
  {
   "cell_type": "code",
   "execution_count": 3,
   "metadata": {
    "collapsed": true
   },
   "outputs": [],
   "source": [
    "# Collision happens when two strings that are not equall are located in the same bucket\n",
    "collision=0\n",
    "for i in hashdict:\n",
    "    l=hashdict[i]\n",
    "    v=l[0]\n",
    "    # values in the bucket are checked with the first one if they are equall they are not considered as collison\n",
    "    for j in l[1:]:\n",
    "        if j==v:\n",
    "            continue\n",
    "        else:\n",
    "            collision+=1"
   ]
  },
  {
   "cell_type": "code",
   "execution_count": 4,
   "metadata": {
    "collapsed": false
   },
   "outputs": [
    {
     "data": {
      "text/plain": [
       "47532058"
      ]
     },
     "execution_count": 4,
     "metadata": {},
     "output_type": "execute_result"
    }
   ],
   "source": [
    "#The number of collisions that happens\n",
    "collision"
   ]
  },
  {
   "cell_type": "markdown",
   "metadata": {},
   "source": [
    "#### In this phase in order to calculate the duplicates we consider just one chain of duplicates in the same bucket as duplicate and the rest chains as collisions. By the above definiton we found 4850022 duplicates. "
   ]
  },
  {
   "cell_type": "code",
   "execution_count": 5,
   "metadata": {
    "collapsed": true
   },
   "outputs": [],
   "source": [
    "duplicates13=0\n",
    "for i in hashdict:\n",
    "    l=hashdict[i]\n",
    "    j=max(Counter(l).values())\n",
    "    if j!=1:\n",
    "        duplicates3+=j"
   ]
  },
  {
   "cell_type": "code",
   "execution_count": 6,
   "metadata": {
    "collapsed": false
   },
   "outputs": [
    {
     "data": {
      "text/plain": [
       "4850022"
      ]
     },
     "execution_count": 6,
     "metadata": {},
     "output_type": "execute_result"
    }
   ],
   "source": [
    "duplicates13"
   ]
  },
  {
   "cell_type": "markdown",
   "metadata": {},
   "source": [
    "#### If we just find the chain of duplicates without taking into account them as an collisions we will find 10000."
   ]
  },
  {
   "cell_type": "code",
   "execution_count": 7,
   "metadata": {
    "collapsed": true
   },
   "outputs": [],
   "source": [
    "\n",
    "duplicates=0\n",
    "for i in hashdict:\n",
    "    l=hashdict[i]\n",
    "    for j in Counter(l).values():\n",
    "        if j>1:\n",
    "            duplicates+=j"
   ]
  },
  {
   "cell_type": "code",
   "execution_count": 8,
   "metadata": {
    "collapsed": false,
    "scrolled": true
   },
   "outputs": [
    {
     "data": {
      "text/plain": [
       "10000000"
      ]
     },
     "execution_count": 8,
     "metadata": {},
     "output_type": "execute_result"
    }
   ],
   "source": [
    "duplicates"
   ]
  },
  {
   "cell_type": "code",
   "execution_count": 9,
   "metadata": {
    "collapsed": true
   },
   "outputs": [],
   "source": [
    "del hashdict\n",
    "del duplicates\n",
    "del collision"
   ]
  },
  {
   "cell_type": "markdown",
   "metadata": {},
   "source": [
    "#### All the steps are same as above except we don't sort the passwords"
   ]
  },
  {
   "cell_type": "code",
   "execution_count": 10,
   "metadata": {
    "collapsed": true
   },
   "outputs": [],
   "source": [
    "from collections import defaultdict\n",
    "\n",
    "\n",
    "def hashfunction(data):\n",
    "    s=data.strip()\n",
    "    h=[ord(i) for i in s]\n",
    "    hashnumber=sum([256**(h.index(value))*value for value in h])%88000000\n",
    "    hashdict1[hashnumber].append(s)\n",
    "    return(hashdict1)\n",
    "hashdict1 = defaultdict(list)\n",
    "with open(\"passwords2.txt\") as f:\n",
    "        for line in f:\n",
    "            line1=f.readline()\n",
    "            if len(line1.strip())==20:\n",
    "                data=line1.strip()\n",
    "                hashfunction(data)"
   ]
  },
  {
   "cell_type": "markdown",
   "metadata": {},
   "source": [
    "#### Collisions "
   ]
  },
  {
   "cell_type": "code",
   "execution_count": 11,
   "metadata": {
    "collapsed": true
   },
   "outputs": [],
   "source": [
    "collision1=0\n",
    "for i in hashdict1:\n",
    "    l=hashdict1[i]\n",
    "    v=l[0]\n",
    "    for j in l[1:]:\n",
    "        if j==v:\n",
    "            continue\n",
    "        else:\n",
    "            collision1+=1"
   ]
  },
  {
   "cell_type": "code",
   "execution_count": 12,
   "metadata": {
    "collapsed": false
   },
   "outputs": [
    {
     "data": {
      "text/plain": [
       "28419480"
      ]
     },
     "execution_count": 12,
     "metadata": {},
     "output_type": "execute_result"
    }
   ],
   "source": [
    "collision1"
   ]
  },
  {
   "cell_type": "markdown",
   "metadata": {},
   "source": [
    "#### Duplicates if the chain of duplicates don't take into account , in other words if we have two chain of duplicates we consider them duplicates."
   ]
  },
  {
   "cell_type": "code",
   "execution_count": 13,
   "metadata": {
    "collapsed": true
   },
   "outputs": [],
   "source": [
    "duplicates1=0\n",
    "for i in hashdict1:\n",
    "    l=hashdict1[i]\n",
    "    for j in Counter(l).values():\n",
    "        if j>1:\n",
    "            duplicates1+=j"
   ]
  },
  {
   "cell_type": "code",
   "execution_count": 14,
   "metadata": {
    "collapsed": false
   },
   "outputs": [
    {
     "data": {
      "text/plain": [
       "5000000"
      ]
     },
     "execution_count": 14,
     "metadata": {},
     "output_type": "execute_result"
    }
   ],
   "source": [
    "duplicates1"
   ]
  },
  {
   "cell_type": "markdown",
   "metadata": {},
   "source": [
    "#### In the following Script if we encounter with the chain of duplicates in one bucket we consider one chain as an duplicates and the other one as collision."
   ]
  },
  {
   "cell_type": "code",
   "execution_count": 15,
   "metadata": {
    "collapsed": true
   },
   "outputs": [],
   "source": [
    "duplicates2=0\n",
    "for i in hashdict1:\n",
    "    l=hashdict1[i]\n",
    "    j=max(Counter(l).values())\n",
    "    if j!=1:\n",
    "        duplicates2+=j"
   ]
  },
  {
   "cell_type": "code",
   "execution_count": 16,
   "metadata": {
    "collapsed": false
   },
   "outputs": [
    {
     "data": {
      "text/plain": [
       "4790220"
      ]
     },
     "execution_count": 16,
     "metadata": {},
     "output_type": "execute_result"
    }
   ],
   "source": [
    "duplicates2"
   ]
  }
 ],
 "metadata": {
  "kernelspec": {
   "display_name": "Python 3",
   "language": "python",
   "name": "python3"
  },
  "language_info": {
   "codemirror_mode": {
    "name": "ipython",
    "version": 3
   },
   "file_extension": ".py",
   "mimetype": "text/x-python",
   "name": "python",
   "nbconvert_exporter": "python",
   "pygments_lexer": "ipython3",
   "version": "3.6.0"
  }
 },
 "nbformat": 4,
 "nbformat_minor": 2
}
