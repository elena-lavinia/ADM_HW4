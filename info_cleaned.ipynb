{
 "cells": [
  {
   "cell_type": "code",
   "execution_count": 1,
   "metadata": {},
   "outputs": [],
   "source": [
    "import pandas as pd\n",
    "import numpy as np\n",
    "import time\n",
    "from bs4 import BeautifulSoup\n",
    "import requests\n",
    "import nltk \n",
    "\n",
    "from nltk.corpus import stopwords\n",
    "from nltk.stem import PorterStemmer\n",
    "from nltk import word_tokenize\n",
    "import string\n",
    "from nltk.tokenize import RegexpTokenizer"
   ]
  },
  {
   "cell_type": "code",
   "execution_count": null,
   "metadata": {},
   "outputs": [],
   "source": [
    " def Objective_page(url):\n",
    "    try:\n",
    "        tag=BeautifulSoup(requests.get(url).text, \"html.parser\")\n",
    "        time.sleep(2)\n",
    "        l1=['piano','bagni','superficie','locali']\n",
    "        df=[]\n",
    "        x=tag.findAll('div',{'class':'im-property__features'})\n",
    "        y=tag.findAll('div',{'class':'clearfix description'})\n",
    "        d={}\n",
    "        house=[text for text in x[0].stripped_strings]\n",
    "        house.reverse()\n",
    "        house1=[text for text in y[0].stripped_strings]\n",
    "        house1=\" \".join(house1)\n",
    "        for i in l1:\n",
    "            if i in house:\n",
    "                index=house.index(i)\n",
    "                if i=='superficie':\n",
    "                    d[i]=house[index+3]\n",
    "                else:\n",
    "                    d[i]=house[index+1]\n",
    "                if house[-1].find('€')!=-1:\n",
    "                    d['prezzo(€)']=house[-1]\n",
    "        d['description']=house1\n",
    "    except:\n",
    "        d['description']=\"there was a problem in this link\"\n",
    "    del tag\n",
    "    return(d)\n"
   ]
  },
  {
   "cell_type": "code",
   "execution_count": null,
   "metadata": {},
   "outputs": [],
   "source": [
    "link=pd.read_csv(\"Scrappinglink.csv\")\n",
    "l=list(link[\"links\"])"
   ]
  },
  {
   "cell_type": "code",
   "execution_count": null,
   "metadata": {},
   "outputs": [],
   "source": [
    "from multiprocessing import Pool\n",
    "with Pool(10) as p:\n",
    "    records = p.map(Objective_page, l[5000:7000])\n",
    "p.terminate()\n",
    "p.join()"
   ]
  },
  {
   "cell_type": "code",
   "execution_count": 4,
   "metadata": {},
   "outputs": [],
   "source": [
    "df1 = pd.read_csv(\"first-Scraping.csv\")"
   ]
  },
  {
   "cell_type": "code",
   "execution_count": 5,
   "metadata": {},
   "outputs": [],
   "source": [
    "df2 = pd.read_csv(\"2rd_scaping_1.csv\")"
   ]
  },
  {
   "cell_type": "code",
   "execution_count": 6,
   "metadata": {},
   "outputs": [],
   "source": [
    "df3 = pd.read_csv(\"3rd_scaping_1.csv\")"
   ]
  },
  {
   "cell_type": "code",
   "execution_count": null,
   "metadata": {},
   "outputs": [],
   "source": [
    "df.tail()"
   ]
  },
  {
   "cell_type": "code",
   "execution_count": null,
   "metadata": {},
   "outputs": [],
   "source": [
    "from nltk.tokenize import word_tokenize"
   ]
  },
  {
   "cell_type": "code",
   "execution_count": 46,
   "metadata": {},
   "outputs": [],
   "source": [
    "finaldf = pd.concat([df1,df2,df3])\n",
    "finaldf=finaldf.reset_index(drop=True)\n",
    "finaldf.drop(['Unnamed: 0'], axis=1)\n",
    "df = finaldf.dropna()"
   ]
  },
  {
   "cell_type": "markdown",
   "metadata": {},
   "source": [
    "cleaning information dataframe"
   ]
  },
  {
   "cell_type": "code",
   "execution_count": 48,
   "metadata": {},
   "outputs": [],
   "source": [
    "informationdf = informationdf.replace({r'\\s+€': '', r'^\\s+': ''}, regex=True).replace(r'\\€',  ' ', regex=True).replace(r'da',  '', regex=True)"
   ]
  },
  {
   "cell_type": "code",
   "execution_count": 64,
   "metadata": {},
   "outputs": [],
   "source": [
    "informationdf['bagni']=informationdf['bagni'].replace(r'3\\+',  '3.5', regex=True).replace(r'\\+', '', regex=True)\n",
    "informationdf['piano'] = informationdf['piano'].replace(r'A',  '11.5', regex=True).replace(r'11\\+',  '11', regex=True).replace(r'R',  '0.3', regex=True).replace(r'T',  '0.5', regex=True).replace(r'S',  '0', regex=True)"
   ]
  },
  {
   "cell_type": "code",
   "execution_count": 63,
   "metadata": {},
   "outputs": [],
   "source": [
    "informationdf['piano'] = informationdf['piano'].replace(r'A',  '11.5', regex=True).replace(r'11\\+',  '11', regex=True).replace(r'R',  '0.3', regex=True).replace(r'T',  '0.5', regex=True).replace(r'S',  '0', regex=True)"
   ]
  },
  {
   "cell_type": "code",
   "execution_count": 70,
   "metadata": {},
   "outputs": [],
   "source": [
    "informationdf['locali'] = informationdf['locali'].replace(r'5\\+',  '5.5', regex=True)"
   ]
  }
 ],
 "metadata": {
  "kernelspec": {
   "display_name": "Python 3",
   "language": "python",
   "name": "python3"
  },
  "language_info": {
   "codemirror_mode": {
    "name": "ipython",
    "version": 3
   },
   "file_extension": ".py",
   "mimetype": "text/x-python",
   "name": "python",
   "nbconvert_exporter": "python",
   "pygments_lexer": "ipython3",
   "version": "3.7.0"
  }
 },
 "nbformat": 4,
 "nbformat_minor": 2
}
